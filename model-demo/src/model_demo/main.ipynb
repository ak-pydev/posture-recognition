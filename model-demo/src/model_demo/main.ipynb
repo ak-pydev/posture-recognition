{
 "cells": [
  {
   "cell_type": "markdown",
   "id": "00e9c06b-9046-4954-adce-794a99f11b80",
   "metadata": {},
   "source": [
    "# Posture_Recognition\n",
    "Author: Aaditya Khanal and Priyanka Pandit"
   ]
  },
  {
   "cell_type": "code",
   "execution_count": null,
   "id": "b7b8286d",
   "metadata": {},
   "outputs": [
    {
     "data": {
      "application/vnd.jupyter.widget-view+json": {
       "model_id": "4dc884dc3870481a8084709f67dc92eb",
       "version_major": 2,
       "version_minor": 0
      },
      "text/plain": [
       "Resolving data files:   0%|          | 0/13853 [00:00<?, ?it/s]"
      ]
     },
     "metadata": {},
     "output_type": "display_data"
    },
    {
     "data": {
      "application/vnd.jupyter.widget-view+json": {
       "model_id": "b8ffebd931bb4bb1b3ccaa08bd50d997",
       "version_major": 2,
       "version_minor": 0
      },
      "text/plain": [
       "Downloading data:   0%|          | 0/13853 [00:00<?, ?files/s]"
      ]
     },
     "metadata": {},
     "output_type": "display_data"
    },
    {
     "data": {
      "application/vnd.jupyter.widget-view+json": {
       "model_id": "685c2a130b2f4ebdbc397d93271b4309",
       "version_major": 2,
       "version_minor": 0
      },
      "text/plain": [
       "Generating train split: 0 examples [00:00, ? examples/s]"
      ]
     },
     "metadata": {},
     "output_type": "display_data"
    },
    {
     "name": "stdout",
     "output_type": "stream",
     "text": [
      "{'0': 'barbell biceps curl', '1': 'bench press', '2': 'chest fly machine', '3': 'deadlift', '4': 'decline bench press', '5': 'hammer curl', '6': 'hip thrust', '7': 'incline bench press', '8': 'lat pulldown', '9': 'lateral raises', '10': 'leg extension', '11': 'leg raises', '12': 'plank', '13': 'pull up', '14': 'push up', '15': 'romanian deadlift', '16': 'russian twist', '17': 'shoulder press', '18': 'squat', '19': 't bar row', '20': 'tricep dips', '21': 'tricep pushdown'}\n"
     ]
    }
   ],
   "source": [
    "# label mapping using ID2Label\n",
    "\n",
    "\n",
    "from datasets import load_dataset\n",
    "\n",
    "dataset = load_dataset(\"C:/Users/Aaditya Khanal/OneDrive/Desktop/posture-recognition/image_dataset\")\n",
    "\n",
    "labels = dataset[\"train\"].features[\"label\"].names\n",
    "\n",
    "id2label = {str(i): label for i, label in enumerate(labels)}\n",
    "\n",
    "\n",
    "print(id2label)"
   ]
  },
  {
   "cell_type": "code",
   "execution_count": null,
   "id": "143aa30e-6c7a-4633-82bd-341226415843",
   "metadata": {},
   "outputs": [],
   "source": [
    "import gradio as gr\n",
    "from transformers import AutoImageProcessor\n",
    "from transformers import SiglipForImageClassification\n",
    "from transformers.image_utils import load_image\n",
    "from PIL import Image\n",
    "import torch\n",
    "import cv2\n",
    "import time\n",
    "import PoseModule as pm\n",
    "from PIL import Image\n",
    "import torch\n"
   ]
  },
  {
   "cell_type": "code",
   "execution_count": 4,
   "id": "6e4bbe0a-6d0b-4721-9c7c-b686d72c8fba",
   "metadata": {},
   "outputs": [
    {
     "name": "stdout",
     "output_type": "stream",
     "text": [
      "True\n",
      "NVIDIA GeForce RTX 4070 SUPER\n"
     ]
    }
   ],
   "source": [
    "import torch\n",
    "print(torch.cuda.is_available())       \n",
    "print(torch.cuda.get_device_name(0))    "
   ]
  },
  {
   "cell_type": "code",
   "execution_count": 5,
   "id": "14f6a5d8-cd83-424e-82ff-69f99468a171",
   "metadata": {},
   "outputs": [],
   "source": [
    "model_name = \"prithivMLmods/Gym-Workout-Classifier-SigLIP2\"\n",
    "model = SiglipForImageClassification.from_pretrained(model_name)\n",
    "processor = AutoImageProcessor.from_pretrained(model_name, use_fast= True)"
   ]
  },
  {
   "cell_type": "code",
   "execution_count": 17,
   "id": "a40b8515-b83b-4530-8fe9-d87ad3f72d03",
   "metadata": {},
   "outputs": [],
   "source": [
    "def workout_classification(image):\n",
    "    \"\"\"Predicts workout exercise classification for an image.\"\"\"\n",
    "    image = Image.fromarray(image).convert(\"RGB\")\n",
    "    inputs = processor(images=image, return_tensors=\"pt\")\n",
    "    \n",
    "    with torch.no_grad():\n",
    "        outputs = model(**inputs)\n",
    "        logits = outputs.logits\n",
    "        probs = torch.nn.functional.softmax(logits, dim=1).squeeze().tolist()\n",
    "    \n",
    "    labels = {\n",
    "        \"0\": \"barbell biceps curl\", \"1\": \"bench press\", \"2\": \"chest fly machine\", \"3\": \"deadlift\",\n",
    "        \"4\": \"decline bench press\", \"5\": \"hammer curl\", \"6\": \"hip thrust\", \"7\": \"incline bench press\",\n",
    "        \"8\": \"lat pulldown\", \"9\": \"lateral raises\", \"10\": \"leg extension\", \"11\": \"leg raises\",\n",
    "        \"12\": \"plank\", \"13\": \"pull up\", \"14\": \"push up\", \"15\": \"romanian deadlift\",\n",
    "        \"16\": \"russian twist\", \"17\": \"shoulder press\", \"18\": \"squat\", \"19\": \"t bar row\",\n",
    "        \"20\": \"tricep dips\", \"21\": \"tricep pushdown\"\n",
    "    }\n",
    "    \n",
    "    predictions = {labels[str(i)]: round(probs[i], 3) for i in range(len(probs))}\n",
    "    return predictions\n"
   ]
  },
  {
   "cell_type": "code",
   "execution_count": null,
   "id": "fb64a79c",
   "metadata": {},
   "outputs": [],
   "source": [
    "detector = pm.PoseDetector()\n",
    "frame = cv2.imread(\"C:/Users/Aaditya Khanal/OneDrive/Desktop/posture-recognition/model-demo/src/model_demo/Bench-Press.jpg\")\n",
    "predictions, annotated_img = workout_classification_with_pose(frame, detector, processor, model)\n",
    "\n",
    "# Show image with landmarks\n",
    "cv2.imshow(\"Pose Landmarks\", annotated_img)\n",
    "cv2.waitKey(0)\n",
    "cv2.destroyAllWindows()\n",
    "\n",
    "# Print predictions\n",
    "for exercise, prob in predictions.items():\n",
    "    print(f\"{exercise}: {prob}\")"
   ]
  },
  {
   "cell_type": "code",
   "execution_count": null,
   "id": "9941f5cf",
   "metadata": {},
   "outputs": [],
   "source": []
  },
  {
   "cell_type": "code",
   "execution_count": 13,
   "id": "05051e07-796d-4594-be14-1fb7ff017776",
   "metadata": {},
   "outputs": [],
   "source": [
    "iface = gr.Interface(\n",
    "    fn=workout_classification,\n",
    "    inputs=gr.Image(type=\"numpy\"),\n",
    "    outputs=gr.Label(label=\"Prediction Scores\"),\n",
    "    title=\"Gym Workout Classification\",\n",
    "    description=\"Upload an image to classify the workout exercise.\"\n",
    ")"
   ]
  },
  {
   "cell_type": "code",
   "execution_count": 14,
   "id": "a64e0513-4d23-45ac-b9df-6d1df759607d",
   "metadata": {},
   "outputs": [
    {
     "name": "stdout",
     "output_type": "stream",
     "text": [
      "* Running on local URL:  http://127.0.0.1:7862\n",
      "\n",
      "To create a public link, set `share=True` in `launch()`.\n"
     ]
    },
    {
     "data": {
      "text/html": [
       "<div><iframe src=\"http://127.0.0.1:7862/\" width=\"100%\" height=\"500\" allow=\"autoplay; camera; microphone; clipboard-read; clipboard-write;\" frameborder=\"0\" allowfullscreen></iframe></div>"
      ],
      "text/plain": [
       "<IPython.core.display.HTML object>"
      ]
     },
     "metadata": {},
     "output_type": "display_data"
    }
   ],
   "source": [
    "if __name__ == \"__main__\":\n",
    "    iface.launch()"
   ]
  }
 ],
 "metadata": {
  "kernelspec": {
   "display_name": "Python 3 (ipykernel)",
   "language": "python",
   "name": "python3"
  },
  "language_info": {
   "codemirror_mode": {
    "name": "ipython",
    "version": 3
   },
   "file_extension": ".py",
   "mimetype": "text/x-python",
   "name": "python",
   "nbconvert_exporter": "python",
   "pygments_lexer": "ipython3",
   "version": "3.10.11"
  }
 },
 "nbformat": 4,
 "nbformat_minor": 5
}
