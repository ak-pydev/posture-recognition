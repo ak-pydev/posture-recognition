{
 "cells": [
  {
   "cell_type": "markdown",
   "id": "00e9c06b-9046-4954-adce-794a99f11b80",
   "metadata": {},
   "source": [
    "# Posture_Recognition\n",
    "Author: Aaditya Khanal and Priyanka Pandit"
   ]
  },
  {
   "cell_type": "code",
   "execution_count": null,
   "id": "b7b8286d",
   "metadata": {},
   "outputs": [
    {
     "ename": "TypeError",
     "evalue": "string indices must be integers",
     "output_type": "error",
     "traceback": [
      "\u001b[1;31m---------------------------------------------------------------------------\u001b[0m",
      "\u001b[1;31mTypeError\u001b[0m                                 Traceback (most recent call last)",
      "Cell \u001b[1;32mIn[6], line 7\u001b[0m\n\u001b[0;32m      1\u001b[0m \u001b[38;5;66;03m# label mapping using ID2Label\u001b[39;00m\n\u001b[0;32m      5\u001b[0m dataset \u001b[38;5;241m=\u001b[39m\u001b[38;5;124m\"\u001b[39m\u001b[38;5;124mC:/Users/Aaditya Khanal/OneDrive/Desktop/posture-recognition/image_dataset\u001b[39m\u001b[38;5;124m\"\u001b[39m\n\u001b[1;32m----> 7\u001b[0m labels \u001b[38;5;241m=\u001b[39m \u001b[43mdataset\u001b[49m\u001b[43m[\u001b[49m\u001b[38;5;124;43m\"\u001b[39;49m\u001b[38;5;124;43mtrain\u001b[39;49m\u001b[38;5;124;43m\"\u001b[39;49m\u001b[43m]\u001b[49m\u001b[38;5;241m.\u001b[39mfeatures[\u001b[38;5;124m\"\u001b[39m\u001b[38;5;124mlabel\u001b[39m\u001b[38;5;124m\"\u001b[39m]\u001b[38;5;241m.\u001b[39mnames\n\u001b[0;32m      9\u001b[0m id2label \u001b[38;5;241m=\u001b[39m {\u001b[38;5;28mstr\u001b[39m(i): label \u001b[38;5;28;01mfor\u001b[39;00m i, label \u001b[38;5;129;01min\u001b[39;00m \u001b[38;5;28menumerate\u001b[39m(labels)}\n\u001b[0;32m     12\u001b[0m \u001b[38;5;28mprint\u001b[39m(id2label)\n",
      "\u001b[1;31mTypeError\u001b[0m: string indices must be integers"
     ]
    }
   ],
   "source": [
    "# label mapping using ID2Label\n",
    "\n",
    "\n",
    "from datasets import load_dataset\n",
    "\n",
    "dataset = load_dataset(\"C:/Users/Aaditya Khanal/OneDrive/Desktop/posture-recognition/image_dataset\")\n",
    "\n",
    "labels = dataset[\"train\"].features[\"label\"].names\n",
    "\n",
    "id2label = {str(i): label for i, label in enumerate(labels)}\n",
    "\n",
    "\n",
    "print(id2label)"
   ]
  }
 ],
 "metadata": {
  "kernelspec": {
   "display_name": ".venv",
   "language": "python",
   "name": "python3"
  },
  "language_info": {
   "codemirror_mode": {
    "name": "ipython",
    "version": 3
   },
   "file_extension": ".py",
   "mimetype": "text/x-python",
   "name": "python",
   "nbconvert_exporter": "python",
   "pygments_lexer": "ipython3",
   "version": "3.10.11"
  }
 },
 "nbformat": 4,
 "nbformat_minor": 5
}
